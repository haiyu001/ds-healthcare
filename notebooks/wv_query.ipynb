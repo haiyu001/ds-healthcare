{
 "cells": [
  {
   "cell_type": "markdown",
   "id": "8f48964e",
   "metadata": {},
   "source": [
    "# fastText word query"
   ]
  },
  {
   "cell_type": "code",
   "execution_count": 1,
   "id": "2686e262",
   "metadata": {},
   "outputs": [],
   "source": [
    "from gensim.models import FastText\n",
    "from word_vector.wv_query import query_word, query_words"
   ]
  },
  {
   "cell_type": "code",
   "execution_count": 3,
   "id": "74b901fa",
   "metadata": {},
   "outputs": [],
   "source": [
    "model_path = \"/Users/haiyang/data/webmd/canonicalization/word_vector/model/fastText\"\n",
    "model = FastText.load(model_path).wv"
   ]
  },
  {
   "cell_type": "code",
   "execution_count": 4,
   "id": "24da2943",
   "metadata": {},
   "outputs": [
    {
     "name": "stdout",
     "output_type": "stream",
     "text": [
      "========== blood ==========\n"
     ]
    },
    {
     "data": {
      "text/plain": "           word  similarity  count\n0        bloood       0.844      7\n1        bloods       0.827     13\n2     bloodtest       0.785      6\n3     bloodclot       0.752     16\n4         bloom       0.745      7\n5        bloody       0.740    300\n6         blook       0.730      7\n7    bloodclots       0.728     16\n8   blood count       0.718     69\n9          blod       0.676     17\n10   bloodsugar       0.674     13\n11   blood flow       0.667     92\n12  bloodstream       0.657     57\n13    highblood       0.646      8\n14    bloodwork       0.640    216",
      "text/html": "<div>\n<style scoped>\n    .dataframe tbody tr th:only-of-type {\n        vertical-align: middle;\n    }\n\n    .dataframe tbody tr th {\n        vertical-align: top;\n    }\n\n    .dataframe thead th {\n        text-align: right;\n    }\n</style>\n<table border=\"1\" class=\"dataframe\">\n  <thead>\n    <tr style=\"text-align: right;\">\n      <th></th>\n      <th>word</th>\n      <th>similarity</th>\n      <th>count</th>\n    </tr>\n  </thead>\n  <tbody>\n    <tr>\n      <th>0</th>\n      <td>bloood</td>\n      <td>0.844</td>\n      <td>7</td>\n    </tr>\n    <tr>\n      <th>1</th>\n      <td>bloods</td>\n      <td>0.827</td>\n      <td>13</td>\n    </tr>\n    <tr>\n      <th>2</th>\n      <td>bloodtest</td>\n      <td>0.785</td>\n      <td>6</td>\n    </tr>\n    <tr>\n      <th>3</th>\n      <td>bloodclot</td>\n      <td>0.752</td>\n      <td>16</td>\n    </tr>\n    <tr>\n      <th>4</th>\n      <td>bloom</td>\n      <td>0.745</td>\n      <td>7</td>\n    </tr>\n    <tr>\n      <th>5</th>\n      <td>bloody</td>\n      <td>0.740</td>\n      <td>300</td>\n    </tr>\n    <tr>\n      <th>6</th>\n      <td>blook</td>\n      <td>0.730</td>\n      <td>7</td>\n    </tr>\n    <tr>\n      <th>7</th>\n      <td>bloodclots</td>\n      <td>0.728</td>\n      <td>16</td>\n    </tr>\n    <tr>\n      <th>8</th>\n      <td>blood count</td>\n      <td>0.718</td>\n      <td>69</td>\n    </tr>\n    <tr>\n      <th>9</th>\n      <td>blod</td>\n      <td>0.676</td>\n      <td>17</td>\n    </tr>\n    <tr>\n      <th>10</th>\n      <td>bloodsugar</td>\n      <td>0.674</td>\n      <td>13</td>\n    </tr>\n    <tr>\n      <th>11</th>\n      <td>blood flow</td>\n      <td>0.667</td>\n      <td>92</td>\n    </tr>\n    <tr>\n      <th>12</th>\n      <td>bloodstream</td>\n      <td>0.657</td>\n      <td>57</td>\n    </tr>\n    <tr>\n      <th>13</th>\n      <td>highblood</td>\n      <td>0.646</td>\n      <td>8</td>\n    </tr>\n    <tr>\n      <th>14</th>\n      <td>bloodwork</td>\n      <td>0.640</td>\n      <td>216</td>\n    </tr>\n  </tbody>\n</table>\n</div>"
     },
     "metadata": {},
     "output_type": "display_data"
    }
   ],
   "source": [
    "words = [\"blood\"]\n",
    "query_words(words, model, topn=15, min_count=3)"
   ]
  },
  {
   "cell_type": "code",
   "execution_count": null,
   "id": "f796e441",
   "metadata": {},
   "outputs": [],
   "source": []
  }
 ],
 "metadata": {
  "kernelspec": {
   "display_name": "Python [conda env:datascience] *",
   "language": "python",
   "name": "conda-env-datascience-py"
  },
  "language_info": {
   "codemirror_mode": {
    "name": "ipython",
    "version": 3
   },
   "file_extension": ".py",
   "mimetype": "text/x-python",
   "name": "python",
   "nbconvert_exporter": "python",
   "pygments_lexer": "ipython3",
   "version": "3.8.10"
  }
 },
 "nbformat": 4,
 "nbformat_minor": 5
}