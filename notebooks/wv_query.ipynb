{
 "cells": [
  {
   "cell_type": "markdown",
   "id": "8f48964e",
   "metadata": {},
   "source": [
    "# fastText word query"
   ]
  },
  {
   "cell_type": "code",
   "execution_count": 1,
   "id": "2686e262",
   "metadata": {},
   "outputs": [],
   "source": [
    "from gensim.models import FastText\n",
    "from word_vector.wv_query import query_word, query_words"
   ]
  },
  {
   "cell_type": "code",
   "execution_count": 2,
   "id": "74b901fa",
   "metadata": {},
   "outputs": [],
   "source": [
    "model_path = \"/Users/haiyang/data/drug_test/canonicalization/canonicalizer_wv/model/fastText\"\n",
    "model = FastText.load(model_path).wv"
   ]
  },
  {
   "cell_type": "code",
   "execution_count": 3,
   "id": "24da2943",
   "metadata": {},
   "outputs": [
    {
     "name": "stdout",
     "output_type": "stream",
     "text": [
      "gynocologist\n"
     ]
    },
    {
     "data": {
      "text/html": [
       "<div>\n",
       "<style scoped>\n",
       "    .dataframe tbody tr th:only-of-type {\n",
       "        vertical-align: middle;\n",
       "    }\n",
       "\n",
       "    .dataframe tbody tr th {\n",
       "        vertical-align: top;\n",
       "    }\n",
       "\n",
       "    .dataframe thead th {\n",
       "        text-align: right;\n",
       "    }\n",
       "</style>\n",
       "<table border=\"1\" class=\"dataframe\">\n",
       "  <thead>\n",
       "    <tr style=\"text-align: right;\">\n",
       "      <th></th>\n",
       "      <th>word</th>\n",
       "      <th>similarity</th>\n",
       "      <th>count</th>\n",
       "    </tr>\n",
       "  </thead>\n",
       "  <tbody>\n",
       "    <tr>\n",
       "      <th>0</th>\n",
       "      <td>0.999</td>\n",
       "      <td>gynaecologist</td>\n",
       "      <td>7</td>\n",
       "    </tr>\n",
       "    <tr>\n",
       "      <th>1</th>\n",
       "      <td>0.998</td>\n",
       "      <td>gynecologist</td>\n",
       "      <td>38</td>\n",
       "    </tr>\n",
       "    <tr>\n",
       "      <th>2</th>\n",
       "      <td>0.995</td>\n",
       "      <td>pulmonologist</td>\n",
       "      <td>5</td>\n",
       "    </tr>\n",
       "    <tr>\n",
       "      <th>3</th>\n",
       "      <td>0.988</td>\n",
       "      <td>ophthalmologist</td>\n",
       "      <td>5</td>\n",
       "    </tr>\n",
       "    <tr>\n",
       "      <th>4</th>\n",
       "      <td>0.981</td>\n",
       "      <td>allergist</td>\n",
       "      <td>11</td>\n",
       "    </tr>\n",
       "    <tr>\n",
       "      <th>5</th>\n",
       "      <td>0.979</td>\n",
       "      <td>gyne</td>\n",
       "      <td>5</td>\n",
       "    </tr>\n",
       "    <tr>\n",
       "      <th>6</th>\n",
       "      <td>0.977</td>\n",
       "      <td>saw</td>\n",
       "      <td>59</td>\n",
       "    </tr>\n",
       "    <tr>\n",
       "      <th>7</th>\n",
       "      <td>0.975</td>\n",
       "      <td>gynecology</td>\n",
       "      <td>4</td>\n",
       "    </tr>\n",
       "    <tr>\n",
       "      <th>8</th>\n",
       "      <td>0.970</td>\n",
       "      <td>script</td>\n",
       "      <td>7</td>\n",
       "    </tr>\n",
       "    <tr>\n",
       "      <th>9</th>\n",
       "      <td>0.969</td>\n",
       "      <td>dr.</td>\n",
       "      <td>47</td>\n",
       "    </tr>\n",
       "  </tbody>\n",
       "</table>\n",
       "</div>"
      ],
      "text/plain": [
       "    word       similarity  count\n",
       "0  0.999    gynaecologist      7\n",
       "1  0.998     gynecologist     38\n",
       "2  0.995    pulmonologist      5\n",
       "3  0.988  ophthalmologist      5\n",
       "4  0.981        allergist     11\n",
       "5  0.979             gyne      5\n",
       "6  0.977              saw     59\n",
       "7  0.975       gynecology      4\n",
       "8  0.970           script      7\n",
       "9  0.969              dr.     47"
      ]
     },
     "metadata": {},
     "output_type": "display_data"
    },
    {
     "name": "stdout",
     "output_type": "stream",
     "text": [
      "\n"
     ]
    }
   ],
   "source": [
    "words = [\"gynocologist\"]\n",
    "query_words(words, model, topn=10, min_count=3)"
   ]
  },
  {
   "cell_type": "code",
   "execution_count": null,
   "id": "64937d06",
   "metadata": {},
   "outputs": [],
   "source": []
  }
 ],
 "metadata": {
  "kernelspec": {
   "display_name": "Python [conda env:datascience] *",
   "language": "python",
   "name": "conda-env-datascience-py"
  },
  "language_info": {
   "codemirror_mode": {
    "name": "ipython",
    "version": 3
   },
   "file_extension": ".py",
   "mimetype": "text/x-python",
   "name": "python",
   "nbconvert_exporter": "python",
   "pygments_lexer": "ipython3",
   "version": "3.8.10"
  }
 },
 "nbformat": 4,
 "nbformat_minor": 5
}
